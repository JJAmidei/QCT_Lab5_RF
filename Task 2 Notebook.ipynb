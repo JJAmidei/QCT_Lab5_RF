{
 "cells": [
  {
   "cell_type": "code",
   "execution_count": 2,
   "id": "56a9bd3e",
   "metadata": {},
   "outputs": [],
   "source": [
    "import re\n",
    "import os\n",
    "import numpy as np\n",
    "import matplotlib.pyplot as plt"
   ]
  },
  {
   "cell_type": "code",
   "execution_count": 28,
   "id": "d36fec54",
   "metadata": {},
   "outputs": [],
   "source": [
    "# style params for the plots\n",
    "plt.rc('font', size=20)          # text size\n",
    "plt.rc('axes', titlesize=26)     # axes title size\n",
    "plt.rc('axes', labelsize=24)     # axes label size\n",
    "plt.rc('xtick', labelsize=20)    # x-tick label size\n",
    "plt.rc('ytick', labelsize=20)    # y-tick label size\n",
    "plt.rc('legend', fontsize=20)    # legend font size\n",
    "plt.rc('figure', titlesize=26)   # figure title size"
   ]
  },
  {
   "cell_type": "code",
   "execution_count": 29,
   "id": "bf0f06e9",
   "metadata": {},
   "outputs": [],
   "source": [
    "def extract_data(folder):\n",
    "    data_dict = {}\n",
    "    \n",
    "    for filename in os.listdir(folder):\n",
    "        if filename.endswith('.csv'):\n",
    "            file_path = os.path.join(folder, filename)\n",
    "        \n",
    "        try: \n",
    "            data = np.genfromtxt(file_path, delimiter=',', skip_header=44, usecols=(0,1))\n",
    "            \n",
    "            file_key = os.path.splitext(filename)[0]\n",
    "            \n",
    "            freq_var = f'{file_key}_freq_data'\n",
    "            noise_var = f'{file_key}_noise_data'\n",
    "            \n",
    "            freq_data = data[:, 0]\n",
    "            noise_data = data[:, 1]\n",
    "            \n",
    "            data_dict[freq_var] = freq_data\n",
    "            data_dict[noise_var] = noise_data \n",
    "            \n",
    "        except Exception as e:\n",
    "            print(f'Error reading {filename}: {e}')\n",
    "            \n",
    "    return data_dict"
   ]
  },
  {
   "cell_type": "code",
   "execution_count": 31,
   "id": "401aaf81",
   "metadata": {},
   "outputs": [],
   "source": [
    "folder = 'Rf1_Task2'\n",
    "data = extract_data(folder)\n",
    "#data.items()"
   ]
  },
  {
   "cell_type": "code",
   "execution_count": null,
   "id": "95a1a841",
   "metadata": {},
   "outputs": [],
   "source": [
    "skip = 0\n",
    "\n",
    "entries = []\n",
    "\n",
    "for key, value in data.items():\n",
    "    if key.startswith(data_header) and key.endswith('_freq_data'):\n",
    "        base_name = key[:-10]\n",
    "        freq_key = key\n",
    "        noise_key = f'{base_name}_noise'\n",
    "        \n",
    "        if freq_key "
   ]
  },
  {
   "cell_type": "code",
   "execution_count": null,
   "id": "4ca27cc8",
   "metadata": {},
   "outputs": [],
   "source": []
  }
 ],
 "metadata": {
  "kernelspec": {
   "display_name": "Python 3 (ipykernel)",
   "language": "python",
   "name": "python3"
  },
  "language_info": {
   "codemirror_mode": {
    "name": "ipython",
    "version": 3
   },
   "file_extension": ".py",
   "mimetype": "text/x-python",
   "name": "python",
   "nbconvert_exporter": "python",
   "pygments_lexer": "ipython3",
   "version": "3.11.5"
  }
 },
 "nbformat": 4,
 "nbformat_minor": 5
}
